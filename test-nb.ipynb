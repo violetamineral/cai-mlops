{
 "cells": [
  {
   "cell_type": "code",
   "execution_count": 5,
   "id": "c141118a-5034-4a4e-b878-9dd1928aeffa",
   "metadata": {},
   "outputs": [],
   "source": [
    "# Cell 1: Setup and check initial count\n",
    "import cml.data_v1 as cmldata\n",
    "import os\n",
    "import pandas as pd\n",
    "from datetime import datetime\n",
    "\n",
    "# Setup\n",
    "USERNAME = os.environ.get(\"PROJECT_OWNER\")\n",
    "DBNAME = \"bnk_mlops_hol_ozarate\"  # Adjust if needed\n",
    "CONNECTION_NAME = os.environ[\"CONNECTION_NAME\"]\n",
    "TABLE_NAME = f\"{DBNAME}.bank_marketing_ozarate\""
   ]
  },
  {
   "cell_type": "code",
   "execution_count": 6,
   "id": "08736bb8-fdc7-4492-9273-ca2ee928dedb",
   "metadata": {},
   "outputs": [
    {
     "name": "stdout",
     "output_type": "stream",
     "text": [
      "Spark Application Id:spark-4f01f32a2caa46ed92f1826d9f9f2ece\n"
     ]
    }
   ],
   "source": [
    "# Connect to Spark\n",
    "conn = cmldata.get_connection(CONNECTION_NAME)\n",
    "spark = conn.get_spark_session()"
   ]
  },
  {
   "cell_type": "code",
   "execution_count": 7,
   "id": "e04b2e3b-b474-4722-9647-7736e740f8d5",
   "metadata": {},
   "outputs": [
    {
     "name": "stderr",
     "output_type": "stream",
     "text": [
      "Hive Session ID = 7c0786d6-cca5-46ce-a88e-654dc670fa97\n",
      "                                                                                \r"
     ]
    },
    {
     "name": "stdout",
     "output_type": "stream",
     "text": [
      "Initial table count: 55180\n",
      "\n",
      "Table structure:\n",
      "root\n",
      " |-- age: string (nullable = true)\n",
      " |-- job: string (nullable = true)\n",
      " |-- marital: string (nullable = true)\n",
      " |-- education: string (nullable = true)\n",
      " |-- default: string (nullable = true)\n",
      " |-- balance: string (nullable = true)\n",
      " |-- housing: string (nullable = true)\n",
      " |-- loan: string (nullable = true)\n",
      " |-- contact: string (nullable = true)\n",
      " |-- day: string (nullable = true)\n",
      " |-- month: string (nullable = true)\n",
      " |-- duration: string (nullable = true)\n",
      " |-- campaign: string (nullable = true)\n",
      " |-- pdays: string (nullable = true)\n",
      " |-- previous: string (nullable = true)\n",
      " |-- poutcome: string (nullable = true)\n",
      " |-- y: string (nullable = true)\n",
      "\n",
      "\n",
      "Sample data:\n"
     ]
    },
    {
     "name": "stderr",
     "output_type": "stream",
     "text": [
      "[Stage 3:>                                                          (0 + 1) / 1]\r"
     ]
    },
    {
     "name": "stdout",
     "output_type": "stream",
     "text": [
      "+---+------------+-------+---------+-------+-------+-------+----+-------+---+-----+--------+--------+-----+--------+--------+---+\n",
      "|age|         job|marital|education|default|balance|housing|loan|contact|day|month|duration|campaign|pdays|previous|poutcome|  y|\n",
      "+---+------------+-------+---------+-------+-------+-------+----+-------+---+-----+--------+--------+-----+--------+--------+---+\n",
      "| 58|  management|married| tertiary|     no|   2143|    yes|  no|unknown|  5|  may|     261|       1|   -1|       0| unknown| no|\n",
      "| 44|  technician| single|secondary|     no|     29|    yes|  no|unknown|  5|  may|     151|       1|   -1|       0| unknown| no|\n",
      "| 33|entrepreneur|married|secondary|     no|      2|    yes| yes|unknown|  5|  may|      76|       1|   -1|       0| unknown| no|\n",
      "| 47| blue-collar|married|  unknown|     no|   1506|    yes|  no|unknown|  5|  may|      92|       1|   -1|       0| unknown| no|\n",
      "| 33|     unknown| single|  unknown|     no|      1|     no|  no|unknown|  5|  may|     198|       1|   -1|       0| unknown| no|\n",
      "+---+------------+-------+---------+-------+-------+-------+----+-------+---+-----+--------+--------+-----+--------+--------+---+\n",
      "\n"
     ]
    },
    {
     "name": "stderr",
     "output_type": "stream",
     "text": [
      "                                                                                \r"
     ]
    }
   ],
   "source": [
    "\n",
    "# Check initial count\n",
    "initial_count = spark.table(TABLE_NAME).count()\n",
    "print(f\"Initial table count: {initial_count}\")\n",
    "\n",
    "# Check table structure\n",
    "print(\"\\nTable structure:\")\n",
    "spark.table(TABLE_NAME).printSchema()\n",
    "\n",
    "# Show sample data\n",
    "print(\"\\nSample data:\")\n",
    "spark.table(TABLE_NAME).limit(5).show()"
   ]
  },
  {
   "cell_type": "code",
   "execution_count": null,
   "id": "49af85b7-03d5-4b33-9b6a-b7552eab5d66",
   "metadata": {},
   "outputs": [],
   "source": []
  },
  {
   "cell_type": "code",
   "execution_count": 4,
   "id": "333ff781-b88d-4829-b8c6-68fda9659890",
   "metadata": {},
   "outputs": [],
   "source": [
    "spark.stop()"
   ]
  },
  {
   "cell_type": "code",
   "execution_count": null,
   "id": "05f1dd8e-b7ca-439a-b48e-04baa3b87c8d",
   "metadata": {},
   "outputs": [],
   "source": []
  }
 ],
 "metadata": {
  "kernelspec": {
   "display_name": "Python 3 (ipykernel)",
   "language": "python",
   "name": "python3"
  },
  "language_info": {
   "codemirror_mode": {
    "name": "ipython",
    "version": 3
   },
   "file_extension": ".py",
   "mimetype": "text/x-python",
   "name": "python",
   "nbconvert_exporter": "python",
   "pygments_lexer": "ipython3",
   "version": "3.10.16"
  }
 },
 "nbformat": 4,
 "nbformat_minor": 5
}
