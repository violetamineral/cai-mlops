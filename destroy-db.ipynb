{
 "cells": [
  {
   "cell_type": "code",
   "execution_count": 1,
   "id": "3789e686-54db-4275-9df6-0e39f708ccd8",
   "metadata": {},
   "outputs": [],
   "source": [
    "## Use only at the end of the lab. Once lab is complete"
   ]
  },
  {
   "cell_type": "code",
   "execution_count": 3,
   "id": "ed6179f1-c7fe-48ec-bdef-4e0920d967a9",
   "metadata": {},
   "outputs": [
    {
     "name": "stderr",
     "output_type": "stream",
     "text": [
      "Setting spark.hadoop.yarn.resourcemanager.principal to ozarate\n"
     ]
    },
    {
     "name": "stdout",
     "output_type": "stream",
     "text": [
      "Spark Application Id:spark-3fcae46d80ae4e78a713925659d4df85\n"
     ]
    },
    {
     "name": "stderr",
     "output_type": "stream",
     "text": [
      "Hive Session ID = 48c9e3c6-276a-43e8-b343-2d03281e34d7\n"
     ]
    },
    {
     "name": "stdout",
     "output_type": "stream",
     "text": [
      "+--------------------+\n",
      "|           namespace|\n",
      "+--------------------+\n",
      "|bnk_mlops_hol_oza...|\n",
      "|             default|\n",
      "|  information_schema|\n",
      "|                 sys|\n",
      "+--------------------+\n",
      "\n"
     ]
    }
   ],
   "source": [
    "import cml.data_v1 as cmldata\n",
    "import os\n",
    "# Sample in-code customization of spark configurations\n",
    "#from pyspark import SparkContext\n",
    "#SparkContext.setSystemProperty('spark.executor.cores', '1')\n",
    "#SparkContext.setSystemProperty('spark.executor.memory', '2g')\n",
    "\n",
    "CONNECTION_NAME = os.environ[\"CONNECTION_NAME\"]\n",
    "conn = cmldata.get_connection(CONNECTION_NAME)\n",
    "spark = conn.get_spark_session()\n",
    "\n",
    "# # Sample usage to run query through spark\n",
    "# EXAMPLE_SQL_QUERY = \"show databases\"\n",
    "# spark.sql(EXAMPLE_SQL_QUERY).show()"
   ]
  },
  {
   "cell_type": "code",
   "execution_count": 7,
   "id": "d12e2c3f-147b-4d65-ad3f-cb47ce74dba4",
   "metadata": {},
   "outputs": [
    {
     "data": {
      "text/plain": [
       "[Row(namespace='bnk_mlops_hol_ozarate'),\n",
       " Row(namespace='default'),\n",
       " Row(namespace='information_schema'),\n",
       " Row(namespace='sys')]"
      ]
     },
     "execution_count": 7,
     "metadata": {},
     "output_type": "execute_result"
    }
   ],
   "source": [
    "dbases"
   ]
  },
  {
   "cell_type": "code",
   "execution_count": null,
   "id": "d1af435d-9e30-45dd-9ffe-6d1aef7e0af6",
   "metadata": {},
   "outputs": [],
   "source": []
  }
 ],
 "metadata": {
  "kernelspec": {
   "display_name": "Python 3 (ipykernel)",
   "language": "python",
   "name": "python3"
  },
  "language_info": {
   "codemirror_mode": {
    "name": "ipython",
    "version": 3
   },
   "file_extension": ".py",
   "mimetype": "text/x-python",
   "name": "python",
   "nbconvert_exporter": "python",
   "pygments_lexer": "ipython3",
   "version": "3.10.14"
  }
 },
 "nbformat": 4,
 "nbformat_minor": 5
}
